{
 "cells": [
  {
   "cell_type": "markdown",
   "metadata": {},
   "source": [
    "# 1. Unity ML-Agents 환경 구성"
   ]
  },
  {
   "cell_type": "markdown",
   "metadata": {},
   "source": [
    "* 유니버스 : 유니티ML\n",
    "* 유니버스X싸이그래머X딥리워드 / 김무성    "
   ]
  },
  {
   "cell_type": "markdown",
   "metadata": {},
   "source": [
    "# 차례 \n",
    "* 1. 실습 github\n",
    "* 2. 설치 환경 & 실행"
   ]
  },
  {
   "cell_type": "markdown",
   "metadata": {},
   "source": [
    "# 1. 실습 github"
   ]
  },
  {
   "cell_type": "markdown",
   "metadata": {},
   "source": [
    "* 저장소 주소 - https://github.com/psygrammer/Universe\n",
    "* 여기서 UnityRL 디렉토리    "
   ]
  },
  {
   "cell_type": "markdown",
   "metadata": {},
   "source": [
    "# 2. 설치 환경 & 실행"
   ]
  },
  {
   "cell_type": "markdown",
   "metadata": {},
   "source": [
    "* 도커를 이용할 경우 [1]\n",
    "    - https://github.com/Unity-Technologies/ml-agents/blob/master/docs/Using-Docker.md\n",
    "    - https://github.com/Unity-Technologies/ml-agents/blob/master/docs/Getting-Started-with-Balance-Ball.md\n",
    "\n",
    "* 아나콘다를 이용할 경우 [2, 3]\n",
    "    - https://wonseokjung.github.io/unity/update/unity-2/\n",
    "    - https://medium.com/@indiecontessa/setting-up-a-python-environment-with-tensorflow-on-macos-for-training-unity-ml-agents-faf19d71201"
   ]
  },
  {
   "cell_type": "code",
   "execution_count": null,
   "metadata": {},
   "outputs": [],
   "source": [
    "!ls python"
   ]
  },
  {
   "cell_type": "code",
   "execution_count": null,
   "metadata": {},
   "outputs": [],
   "source": [
    "!python python/learn.py python/3dball.app --train "
   ]
  },
  {
   "cell_type": "code",
   "execution_count": null,
   "metadata": {},
   "outputs": [],
   "source": [
    "!ls ../"
   ]
  },
  {
   "cell_type": "markdown",
   "metadata": {},
   "source": [
    "# 참고자료\n",
    "* [1] 유니티의 ML-agents 공식 github - https://github.com/Unity-Technologies/ml-agents\n",
    "* [2] wonseok Jung's Handmade RL -2 - https://wonseokjung.github.io/unity/update/unity-2/\n",
    "* [3] Setting up a Python Environment with Unity ML-Agents and TensorFlow for macOS - https://medium.com/@indiecontessa/setting-up-a-python-environment-with-tensorflow-on-macos-for-training-unity-ml-agents-faf19d71201"
   ]
  }
 ],
 "metadata": {
  "kernelspec": {
   "display_name": "Python 3",
   "language": "python",
   "name": "python3"
  },
  "language_info": {
   "codemirror_mode": {
    "name": "ipython",
    "version": 3
   },
   "file_extension": ".py",
   "mimetype": "text/x-python",
   "name": "python",
   "nbconvert_exporter": "python",
   "pygments_lexer": "ipython3",
   "version": "3.6.6"
  }
 },
 "nbformat": 4,
 "nbformat_minor": 2
}
