{
 "cells": [
  {
   "cell_type": "markdown",
   "metadata": {},
   "source": [
    "# 2. Unity ML-Agents 기초 : 구조 & 기본 기능"
   ]
  },
  {
   "cell_type": "markdown",
   "metadata": {},
   "source": [
    "* 유니버스 : 유니티ML\n",
    "* 발표자 : 김무성"
   ]
  },
  {
   "cell_type": "markdown",
   "metadata": {},
   "source": [
    "# 차례 "
   ]
  },
  {
   "cell_type": "markdown",
   "metadata": {},
   "source": [
    "* A. Unity ML-Agents의 구조\n",
    "* B. Unity ML-Agents Toolkit\n",
    "* C. Q-Learning 예제"
   ]
  },
  {
   "cell_type": "markdown",
   "metadata": {},
   "source": [
    "# A. Unity ML-Agents의 구조 [1]"
   ]
  },
  {
   "cell_type": "markdown",
   "metadata": {},
   "source": [
    "#### 참고자료\n",
    "* [1] Bringing Machine Learning to Unity - https://www.slideshare.net/BillLiu31/bringing-machine-learning-to-unity-by-arthur-juliani"
   ]
  },
  {
   "cell_type": "markdown",
   "metadata": {},
   "source": [
    "<img src=\"https://image.slidesharecdn.com/bringingmltotheunity-arthurjuliani-180123065041/95/bringing-machine-learning-to-unity-by-arthur-juliani-from-unity-14-638.jpg?cb=1516906769\" width=600 />"
   ]
  },
  {
   "cell_type": "markdown",
   "metadata": {},
   "source": [
    "<img src=\"https://image.slidesharecdn.com/bringingmltotheunity-arthurjuliani-180123065041/95/bringing-machine-learning-to-unity-by-arthur-juliani-from-unity-17-1024.jpg?cb=1516906769\" width=600 />"
   ]
  },
  {
   "cell_type": "markdown",
   "metadata": {},
   "source": [
    "<img src=\"https://image.slidesharecdn.com/bringingmltotheunity-arthurjuliani-180123065041/95/bringing-machine-learning-to-unity-by-arthur-juliani-from-unity-21-1024.jpg?cb=1516906769\" width=600 />"
   ]
  },
  {
   "cell_type": "markdown",
   "metadata": {},
   "source": [
    "<img src=\"https://image.slidesharecdn.com/bringingmltotheunity-arthurjuliani-180123065041/95/bringing-machine-learning-to-unity-by-arthur-juliani-from-unity-25-1024.jpg?cb=1516906769\" width=600 />"
   ]
  },
  {
   "cell_type": "markdown",
   "metadata": {},
   "source": [
    "--------------------"
   ]
  },
  {
   "cell_type": "markdown",
   "metadata": {},
   "source": [
    "# B. Unity ML-Agents Toolkit [2]\n",
    "## Environment Basics\n",
    "This notebook contains a walkthrough of the basic functions of the Python API for the Unity ML-Agents toolkit. For instructions on building a Unity environment, see [here](https://github.com/Unity-Technologies/ml-agents/blob/master/docs/Getting-Started-with-Balance-Ball.md)."
   ]
  },
  {
   "cell_type": "markdown",
   "metadata": {},
   "source": [
    "### 1. Set environment parameters\n",
    "\n",
    "Be sure to set `env_name` to the name of the Unity environment file you want to launch. Ensure that the environment build is in the `python/` directory."
   ]
  },
  {
   "cell_type": "code",
   "execution_count": 1,
   "metadata": {},
   "outputs": [],
   "source": [
    "env_name = \"3DBall\"  # Name of the Unity environment binary to launch\n",
    "train_mode = True  # Whether to run the environment in training or inference mode"
   ]
  },
  {
   "cell_type": "markdown",
   "metadata": {},
   "source": [
    "### 2. Load dependencies\n",
    "\n",
    "The following loads the necessary dependencies and checks the Python version (at runtime). ML-Agents Toolkit (v0.3 onwards) requires Python 3."
   ]
  },
  {
   "cell_type": "code",
   "execution_count": 2,
   "metadata": {},
   "outputs": [
    {
     "name": "stdout",
     "output_type": "stream",
     "text": [
      "Python version:\n",
      "3.6.6 |Anaconda, Inc.| (default, Jun 28 2018, 11:07:29) \n",
      "[GCC 4.2.1 Compatible Clang 4.0.1 (tags/RELEASE_401/final)]\n"
     ]
    }
   ],
   "source": [
    "import matplotlib.pyplot as plt\n",
    "import numpy as np\n",
    "import sys\n",
    "\n",
    "from unityagents import UnityEnvironment\n",
    "\n",
    "%matplotlib inline\n",
    "\n",
    "print(\"Python version:\")\n",
    "print(sys.version)\n",
    "\n",
    "# check Python version\n",
    "if (sys.version_info[0] < 3):\n",
    "    raise Exception(\"ERROR: ML-Agents Toolkit (v0.3 onwards) requires Python 3\")"
   ]
  },
  {
   "cell_type": "markdown",
   "metadata": {},
   "source": [
    "### 3. Start the environment\n",
    "`UnityEnvironment` launches and begins communication with the environment when instantiated.\n",
    "\n",
    "Environments contain _brains_ which are responsible for deciding the actions of their associated _agents_. Here we check for the first brain available, and set it as the default brain we will be controlling from Python."
   ]
  },
  {
   "cell_type": "code",
   "execution_count": 3,
   "metadata": {},
   "outputs": [
    {
     "name": "stderr",
     "output_type": "stream",
     "text": [
      "INFO:unityagents:\n",
      "'Ball3DAcademy' started successfully!\n",
      "Unity Academy name: Ball3DAcademy\n",
      "        Number of Brains: 1\n",
      "        Number of External Brains : 1\n",
      "        Lesson number : 0\n",
      "        Reset Parameters :\n",
      "\t\t\n",
      "Unity brain name: Ball3DBrain\n",
      "        Number of Visual Observations (per agent): 0\n",
      "        Vector Observation space type: continuous\n",
      "        Vector Observation space size (per agent): 8\n",
      "        Number of stacked Vector Observation: 1\n",
      "        Vector Action space type: continuous\n",
      "        Vector Action space size (per agent): 2\n",
      "        Vector Action descriptions: , \n"
     ]
    },
    {
     "name": "stdout",
     "output_type": "stream",
     "text": [
      "Unity Academy name: Ball3DAcademy\n",
      "        Number of Brains: 1\n",
      "        Number of External Brains : 1\n",
      "        Lesson number : 0\n",
      "        Reset Parameters :\n",
      "\t\t\n",
      "Unity brain name: Ball3DBrain\n",
      "        Number of Visual Observations (per agent): 0\n",
      "        Vector Observation space type: continuous\n",
      "        Vector Observation space size (per agent): 8\n",
      "        Number of stacked Vector Observation: 1\n",
      "        Vector Action space type: continuous\n",
      "        Vector Action space size (per agent): 2\n",
      "        Vector Action descriptions: , \n"
     ]
    }
   ],
   "source": [
    "env = UnityEnvironment(file_name=env_name)\n",
    "\n",
    "# Examine environment parameters\n",
    "print(str(env))\n",
    "\n",
    "# Set the default brain to work with\n",
    "default_brain = env.brain_names[0]\n",
    "brain = env.brains[default_brain]"
   ]
  },
  {
   "cell_type": "markdown",
   "metadata": {},
   "source": [
    "### 4. Examine the observation and state spaces\n",
    "We can reset the environment to be provided with an initial set of observations and states for all the agents within the environment. In ML-Agents, _states_ refer to a vector of variables corresponding to relevant aspects of the environment for an agent. Likewise, _observations_ refer to a set of relevant pixel-wise visuals for an agent."
   ]
  },
  {
   "cell_type": "code",
   "execution_count": 4,
   "metadata": {},
   "outputs": [
    {
     "name": "stdout",
     "output_type": "stream",
     "text": [
      "Agent state looks like: \n",
      "[-0.01467304 -0.01468306 -0.52082062  4.         -0.79952097  0.\n",
      "  0.          0.        ]\n"
     ]
    }
   ],
   "source": [
    "# Reset the environment\n",
    "env_info = env.reset(train_mode=train_mode)[default_brain]\n",
    "\n",
    "# Examine the state space for the default brain\n",
    "print(\"Agent state looks like: \\n{}\".format(env_info.vector_observations[0]))\n",
    "\n",
    "# Examine the observation space for the default brain\n",
    "for observation in env_info.visual_observations:\n",
    "    print(\"Agent observations look like:\")\n",
    "    if observation.shape[3] == 3:\n",
    "        plt.imshow(observation[0,:,:,:])\n",
    "    else:\n",
    "        plt.imshow(observation[0,:,:,0])"
   ]
  },
  {
   "cell_type": "markdown",
   "metadata": {},
   "source": [
    "### 5. Take random actions in the environment\n",
    "Once we restart an environment, we can step the environment forward and provide actions to all of the agents within the environment. Here we simply choose random actions based on the `action_space_type` of the default brain. \n",
    "\n",
    "Once this cell is executed, 10 messages will be printed that detail how much reward will be accumulated for the next 10 episodes. The Unity environment will then pause, waiting for further signals telling it what to do next. Thus, not seeing any animation is expected when running this cell."
   ]
  },
  {
   "cell_type": "code",
   "execution_count": 5,
   "metadata": {},
   "outputs": [
    {
     "name": "stdout",
     "output_type": "stream",
     "text": [
      "Total reward this episode: 2.0000000447034836\n",
      "Total reward this episode: 1.2000000327825546\n",
      "Total reward this episode: 1.4000000357627869\n",
      "Total reward this episode: 1.500000037252903\n",
      "Total reward this episode: 1.500000037252903\n",
      "Total reward this episode: 0.5000000223517418\n",
      "Total reward this episode: 2.200000047683716\n",
      "Total reward this episode: 1.2000000327825546\n",
      "Total reward this episode: 1.0000000298023224\n",
      "Total reward this episode: 0.40000002086162567\n"
     ]
    }
   ],
   "source": [
    "for episode in range(10):\n",
    "    env_info = env.reset(train_mode=train_mode)[default_brain]\n",
    "    done = False\n",
    "    episode_rewards = 0\n",
    "    while not done:\n",
    "        if brain.vector_action_space_type == 'continuous':\n",
    "            env_info = env.step(np.random.randn(len(env_info.agents), \n",
    "                                                brain.vector_action_space_size))[default_brain]\n",
    "        else:\n",
    "            env_info = env.step(np.random.randint(0, brain.vector_action_space_size, \n",
    "                                                  size=(len(env_info.agents))))[default_brain]\n",
    "        episode_rewards += env_info.rewards[0]\n",
    "        done = env_info.local_done[0]\n",
    "    print(\"Total reward this episode: {}\".format(episode_rewards))"
   ]
  },
  {
   "cell_type": "markdown",
   "metadata": {},
   "source": [
    "### 6. Close the environment when finished\n",
    "When we are finished using an environment, we can close it with the function below."
   ]
  },
  {
   "cell_type": "code",
   "execution_count": 6,
   "metadata": {},
   "outputs": [],
   "source": [
    "env.close()"
   ]
  },
  {
   "cell_type": "markdown",
   "metadata": {},
   "source": [
    "-------------------------"
   ]
  },
  {
   "cell_type": "markdown",
   "metadata": {},
   "source": [
    "# C. Q-Learning 예제 [3]"
   ]
  },
  {
   "cell_type": "markdown",
   "metadata": {},
   "source": [
    "## Environment Basics\n",
    "* 이번 예제는 유니티의 ml-agents 기본 환경으로 있는 GridWorld를 바이너리 형태로 구성해야 한다. "
   ]
  },
  {
   "cell_type": "markdown",
   "metadata": {},
   "source": [
    "### 1. Load dependencies"
   ]
  },
  {
   "cell_type": "code",
   "execution_count": 1,
   "metadata": {},
   "outputs": [],
   "source": [
    "import matplotlib.pyplot as plt\n",
    "import numpy as np\n",
    "\n",
    "from unityagents import UnityEnvironment\n",
    "\n",
    "%matplotlib inline"
   ]
  },
  {
   "cell_type": "markdown",
   "metadata": {},
   "source": [
    "### 2. Set environment parameters"
   ]
  },
  {
   "cell_type": "code",
   "execution_count": 2,
   "metadata": {},
   "outputs": [],
   "source": [
    "env_name = \"GridWorld\" # Name of the Unity environment binary to launch\n",
    "train_mode = True # Whether to run the environment in training or inference mode"
   ]
  },
  {
   "cell_type": "markdown",
   "metadata": {},
   "source": [
    "### 3. Start the environment"
   ]
  },
  {
   "cell_type": "code",
   "execution_count": 3,
   "metadata": {},
   "outputs": [
    {
     "name": "stderr",
     "output_type": "stream",
     "text": [
      "INFO:unityagents:\n",
      "'GridAcademy' started successfully!\n",
      "Unity Academy name: GridAcademy\n",
      "        Number of Brains: 1\n",
      "        Number of External Brains : 1\n",
      "        Lesson number : 0\n",
      "        Reset Parameters :\n",
      "\t\tnumObstacles -> 1.0\n",
      "\t\tgridSize -> 5.0\n",
      "\t\tnumGoals -> 1.0\n",
      "Unity brain name: GridWorldBrain\n",
      "        Number of Visual Observations (per agent): 1\n",
      "        Vector Observation space type: continuous\n",
      "        Vector Observation space size (per agent): 0\n",
      "        Number of stacked Vector Observation: 1\n",
      "        Vector Action space type: discrete\n",
      "        Vector Action space size (per agent): 4\n",
      "        Vector Action descriptions: , , , \n"
     ]
    },
    {
     "name": "stdout",
     "output_type": "stream",
     "text": [
      "Unity Academy name: GridAcademy\n",
      "        Number of Brains: 1\n",
      "        Number of External Brains : 1\n",
      "        Lesson number : 0\n",
      "        Reset Parameters :\n",
      "\t\tnumObstacles -> 1.0\n",
      "\t\tgridSize -> 5.0\n",
      "\t\tnumGoals -> 1.0\n",
      "Unity brain name: GridWorldBrain\n",
      "        Number of Visual Observations (per agent): 1\n",
      "        Vector Observation space type: continuous\n",
      "        Vector Observation space size (per agent): 0\n",
      "        Number of stacked Vector Observation: 1\n",
      "        Vector Action space type: discrete\n",
      "        Vector Action space size (per agent): 4\n",
      "        Vector Action descriptions: , , , \n"
     ]
    }
   ],
   "source": [
    "env = UnityEnvironment(file_name=env_name)\n",
    "\n",
    "# Examine environment parameters\n",
    "print(str(env))\n",
    "\n",
    "# Set the default brain to work with\n",
    "default_brain = env.brain_names[0]\n",
    "brain = env.brains[default_brain]"
   ]
  },
  {
   "cell_type": "markdown",
   "metadata": {},
   "source": [
    "### 4. Examine the observation and state spaces"
   ]
  },
  {
   "cell_type": "code",
   "execution_count": 4,
   "metadata": {},
   "outputs": [
    {
     "name": "stdout",
     "output_type": "stream",
     "text": [
      "Agent state looks like: \n",
      "[]\n",
      "Agent observations look like:\n"
     ]
    },
    {
     "data": {
      "image/png": "[encoded data removed]",
      "text/plain": [
       "<Figure size 432x288 with 1 Axes>"
      ]
     },
     "metadata": {},
     "output_type": "display_data"
    }
   ],
   "source": [
    "# Reset the environment\n",
    "env_info = env.reset(train_mode=train_mode)[default_brain]\n",
    "\n",
    "# Examine the state space for the default brain\n",
    "print(\"Agent state looks like: \\n{}\".format(env_info.vector_observations[0]))\n",
    "\n",
    "# Examine the observation space for the default brain\n",
    "for observation in env_info.visual_observations:\n",
    "    print(\"Agent observations look like:\")\n",
    "    if observation.shape[3] == 3:\n",
    "        plt.imshow(observation[0,:,:,:])\n",
    "    else:\n",
    "        plt.imshow(observation[0,:,:,0])"
   ]
  },
  {
   "cell_type": "markdown",
   "metadata": {},
   "source": [
    "### 5. Training & Testing"
   ]
  },
  {
   "cell_type": "code",
   "execution_count": 5,
   "metadata": {},
   "outputs": [
    {
     "name": "stdout",
     "output_type": "stream",
     "text": [
      "Step: 2206 / Episode: 100 / Progress: Training / Epsilon: 0.9779500000001004 / Avg Score: -0.22303029827096246\n",
      "Step: 4590 / Episode: 200 / Progress: Training / Epsilon: 0.9541100000002088 / Avg Score: -0.14879999488592147\n",
      "Step: 7325 / Episode: 300 / Progress: Training / Epsilon: 0.9267600000003333 / Avg Score: -0.3036999941058457\n",
      "Step: 10283 / Episode: 400 / Progress: Training / Epsilon: 0.8971800000004679 / Avg Score: -0.24599999360740185\n",
      "Step: 13060 / Episode: 500 / Progress: Training / Epsilon: 0.8694100000005943 / Avg Score: -0.1383999940007925\n",
      "Step: 16202 / Episode: 600 / Progress: Training / Epsilon: 0.8379900000007373 / Avg Score: -0.25489999318495393\n",
      "Step: 19557 / Episode: 700 / Progress: Training / Epsilon: 0.80444000000089 / Avg Score: -0.2557999927178025\n",
      "Step: 22379 / Episode: 800 / Progress: Training / Epsilon: 0.7762200000010184 / Avg Score: -0.22289999390020968\n",
      "Step: 25343 / Episode: 900 / Progress: Training / Epsilon: 0.7465800000011533 / Avg Score: -0.27709999358281495\n",
      "Step: 28507 / Episode: 1000 / Progress: Training / Epsilon: 0.7149400000012973 / Avg Score: -0.3871999931335449\n",
      "Step: 32116 / Episode: 1100 / Progress: Training / Epsilon: 0.6788500000014616 / Avg Score: -0.20219999212771655\n",
      "Step: 36075 / Episode: 1200 / Progress: Training / Epsilon: 0.6392600000016417 / Avg Score: -0.3771999913454056\n",
      "Step: 39126 / Episode: 1300 / Progress: Training / Epsilon: 0.6087500000017806 / Avg Score: -0.3758999933861196\n",
      "Step: 43367 / Episode: 1400 / Progress: Training / Epsilon: 0.5663400000019736 / Avg Score: -0.3358999907039106\n",
      "Step: 47545 / Episode: 1500 / Progress: Training / Epsilon: 0.5245600000021637 / Avg Score: -0.2693999908491969\n",
      "Step: 50996 / Episode: 1600 / Progress: Training / Epsilon: 0.49005000000226556 / Avg Score: -0.28719999246299266\n",
      "Step: 55486 / Episode: 1700 / Progress: Training / Epsilon: 0.44515000000222066 / Avg Score: -0.5013999901339412\n",
      "Step: 60391 / Episode: 1800 / Progress: Training / Epsilon: 0.3961000000021716 / Avg Score: -0.5331999891996384\n",
      "Step: 65068 / Episode: 1900 / Progress: Training / Epsilon: 0.34933000000212483 / Avg Score: -0.5307999897003174\n",
      "Step: 69803 / Episode: 2000 / Progress: Training / Epsilon: 0.3019800000020775 / Avg Score: -0.49639998957514764\n",
      "Step: 75648 / Episode: 2100 / Progress: Training / Epsilon: 0.24353000000201902 / Avg Score: -0.6982999870739878\n",
      "Step: 81281 / Episode: 2200 / Progress: Training / Epsilon: 0.18720000000196269 / Avg Score: -0.6675999875366688\n",
      "Step: 87532 / Episode: 2300 / Progress: Training / Epsilon: 0.1246900000019006 / Avg Score: -0.5602999861352146\n",
      "Step: 94234 / Episode: 2400 / Progress: Training / Epsilon: 0.09999000000191018 / Avg Score: -0.4556999851204455\n",
      "Step: 100269 / Episode: 2500 / Progress: Testing / Epsilon: 0 / Avg Score: -0.6497999865934253\n",
      "Finished!\n"
     ]
    }
   ],
   "source": [
    "import random\n",
    "\n",
    "# Initial parameters\n",
    "Num_Training = 100000\n",
    "Num_Testing  = 1000 \n",
    "\n",
    "learning_rate = 0.1\n",
    "gamma = 0.9\n",
    "first_epsilon = 1.0\n",
    "final_epsilon = 0.1\n",
    "\n",
    "epsilon = first_epsilon\n",
    "\n",
    "step = 1\n",
    "score = 0 \n",
    "episode = 1\n",
    "\n",
    "# Empty Q table\n",
    "Q_table = {}\n",
    "\n",
    "\n",
    "train_mode = True\n",
    "env_info = env.reset(train_mode=train_mode)[default_brain]\n",
    "state = env_info.vector_observations[0]\n",
    "state = str(state)\n",
    "\n",
    "score_list = []\n",
    "check_show_progress = 0\n",
    "\n",
    "while True:\n",
    "    if step <= Num_Training:\n",
    "        progress = 'Training'\n",
    "        train_mode = True\n",
    "        \n",
    "        # Choose action\n",
    "        if random.random() < epsilon or state not in Q_table.keys() :\n",
    "            # Choose random action\n",
    "            action = np.random.randint(0, brain.vector_action_space_size, size=(len(env_info.agents)))\n",
    "        else:\n",
    "            # Choose greedy action\n",
    "            action = [np.argmax(Q_table[state])]\n",
    "  \n",
    "        env_info = env.step(action)[default_brain]\n",
    "\n",
    "        next_state = env_info.vector_observations[0]\n",
    "        next_state = str(next_state)\n",
    "        reward = env_info.rewards[0]\n",
    "        terminal = env_info.local_done[0]\n",
    "        \n",
    "        # Decrease epsilon while training\n",
    "        if epsilon > final_epsilon:\n",
    "            epsilon -= first_epsilon/Num_Training\n",
    "\n",
    "    elif step <= Num_Training + Num_Testing:\n",
    "        progress = 'Testing'\n",
    "        train_mode = False\n",
    "        \n",
    "        # Choose greedy action\n",
    "        action = [np.argmax(Q_table[state])]\n",
    "\n",
    "        env_info = env.step(action)[default_brain]\n",
    "\n",
    "        next_state = env_info.vector_observations[0]\n",
    "        next_state = str(next_state)\n",
    "        reward = env_info.rewards[0]\n",
    "        terminal = env_info.local_done[0]\n",
    "        \n",
    "        epsilon = 0\n",
    "\n",
    "    else:\n",
    "        # Close the environment when learning is finished!\n",
    "        print('Finished!')\n",
    "        env.close()\n",
    "        break\n",
    "\n",
    "    # Update Q-table!\n",
    "    if state in Q_table.keys() and next_state in Q_table.keys():\n",
    "        if terminal == True:\n",
    "            Q_table[state][action[0]] = (1 - learning_rate) * Q_table[state][action[0]] + learning_rate * (reward)\n",
    "        else:\n",
    "            Q_table[state][action[0]] = (1 - learning_rate) * Q_table[state][action[0]] + learning_rate * (reward + gamma * max(Q_table[next_state]))\n",
    "\n",
    "\n",
    "    # If state or next state is not in Q-table, then add it with zeros\n",
    "    if state not in Q_table.keys():\n",
    "        Q_table[state] = []\n",
    "        for i in range(brain.vector_action_space_size):\n",
    "            Q_table[state].append(0)\n",
    "    elif next_state not in Q_table.keys():\n",
    "        Q_table[next_state] = []\n",
    "        for i in range(brain.vector_action_space_size):\n",
    "            Q_table[next_state].append(0)\t\t\n",
    "\n",
    "    state = next_state\n",
    "    score += env_info.rewards[0]\n",
    "    step += 1\n",
    "\n",
    "       \n",
    "    # If terminal\n",
    "    if terminal == True:\n",
    "        score_list.append(score)\n",
    "        \n",
    "        check_show_progress = 1\n",
    "        episode += 1\n",
    "        score = 0\n",
    "\n",
    "        # If game is finished, initialize the state\n",
    "        env_info = env.reset(train_mode=train_mode)[default_brain]\n",
    "        state = env_info.vector_observations[0]\n",
    "        state = str(state)\n",
    "        \n",
    "    # Show Progress\n",
    "    if episode % 100 == 0 and check_show_progress == 1:\n",
    "        print('Step: ' + str(step) + ' / ' + 'Episode: ' + str(episode) + ' / ' + 'Progress: ' + progress + ' / ' + 'Epsilon: ' + str(epsilon) + ' / ' + 'Avg Score: ' + str(np.mean(score_list)))\n",
    "        score_list = []\n",
    "        check_show_progress = 0"
   ]
  },
  {
   "cell_type": "markdown",
   "metadata": {},
   "source": [
    "# 참고자료\n",
    "* [1] Bringing Machine Learning to Unity - https://www.slideshare.net/BillLiu31/bringing-machine-learning-to-unity-by-arthur-juliani\n",
    "* [2] Unity ML-Agents 공식 저장소의 Basic.ipynb - https://github.com/Unity-Technologies/ml-agents/blob/master/python/Basics.ipynb\n",
    "* [3] Kyushik Min's Github : Reinforcement Learning algorithms with Unity ML Agent - https://github.com/Kyushik/Unity_ML_Agent"
   ]
  }
 ],
 "metadata": {
  "anaconda-cloud": {},
  "kernelspec": {
   "display_name": "Python 3",
   "language": "python",
   "name": "python3"
  },
  "language_info": {
   "codemirror_mode": {
    "name": "ipython",
    "version": 3
   },
   "file_extension": ".py",
   "mimetype": "text/x-python",
   "name": "python",
   "nbconvert_exporter": "python",
   "pygments_lexer": "ipython3",
   "version": "3.6.6"
  }
 },
 "nbformat": 4,
 "nbformat_minor": 1
}
